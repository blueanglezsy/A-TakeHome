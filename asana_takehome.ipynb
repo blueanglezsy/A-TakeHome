{
 "cells": [
  {
   "cell_type": "code",
   "execution_count": 3,
   "metadata": {
    "collapsed": true
   },
   "outputs": [],
   "source": [
    "#Importing packages I think I might need\n",
    "\n",
    "import pandas as pd\n",
    "from sql import *\n",
    "import datetime\n",
    "from time import strftime\n",
    "from datetime import datetime\n",
    "import numpy as np"
   ]
  },
  {
   "cell_type": "code",
   "execution_count": 138,
   "metadata": {
    "collapsed": false
   },
   "outputs": [
    {
     "data": {
      "text/plain": [
       "u'/Users/megara'"
      ]
     },
     "execution_count": 138,
     "metadata": {},
     "output_type": "execute_result"
    }
   ],
   "source": [
    "pwd"
   ]
  },
  {
   "cell_type": "code",
   "execution_count": 5,
   "metadata": {
    "collapsed": false
   },
   "outputs": [],
   "source": [
    "#reading in file 1\n",
    "engagement=pd.read_csv('Documents/take_home/takehome_user_engagement.csv')"
   ]
  },
  {
   "cell_type": "code",
   "execution_count": 6,
   "metadata": {
    "collapsed": true
   },
   "outputs": [],
   "source": [
    "#reading in file 2\n",
    "users=pd.read_csv('Documents/take_home/takehome_users.csv')"
   ]
  },
  {
   "cell_type": "code",
   "execution_count": 139,
   "metadata": {
    "collapsed": false
   },
   "outputs": [
    {
     "data": {
      "text/html": [
       "<div style=\"max-height:1000px;max-width:1500px;overflow:auto;\">\n",
       "<table border=\"1\" class=\"dataframe\">\n",
       "  <thead>\n",
       "    <tr style=\"text-align: right;\">\n",
       "      <th></th>\n",
       "      <th>time_stamp</th>\n",
       "      <th>user_id</th>\n",
       "      <th>visited</th>\n",
       "    </tr>\n",
       "  </thead>\n",
       "  <tbody>\n",
       "    <tr>\n",
       "      <th>0</th>\n",
       "      <td> 2014-04-22 03:53:30</td>\n",
       "      <td> 1</td>\n",
       "      <td> 1</td>\n",
       "    </tr>\n",
       "    <tr>\n",
       "      <th>1</th>\n",
       "      <td> 2013-11-15 03:45:04</td>\n",
       "      <td> 2</td>\n",
       "      <td> 1</td>\n",
       "    </tr>\n",
       "    <tr>\n",
       "      <th>2</th>\n",
       "      <td> 2013-11-29 03:45:04</td>\n",
       "      <td> 2</td>\n",
       "      <td> 1</td>\n",
       "    </tr>\n",
       "    <tr>\n",
       "      <th>3</th>\n",
       "      <td> 2013-12-09 03:45:04</td>\n",
       "      <td> 2</td>\n",
       "      <td> 1</td>\n",
       "    </tr>\n",
       "    <tr>\n",
       "      <th>4</th>\n",
       "      <td> 2013-12-25 03:45:04</td>\n",
       "      <td> 2</td>\n",
       "      <td> 1</td>\n",
       "    </tr>\n",
       "  </tbody>\n",
       "</table>\n",
       "</div>"
      ],
      "text/plain": [
       "            time_stamp  user_id  visited\n",
       "0  2014-04-22 03:53:30        1        1\n",
       "1  2013-11-15 03:45:04        2        1\n",
       "2  2013-11-29 03:45:04        2        1\n",
       "3  2013-12-09 03:45:04        2        1\n",
       "4  2013-12-25 03:45:04        2        1"
      ]
     },
     "execution_count": 139,
     "metadata": {},
     "output_type": "execute_result"
    }
   ],
   "source": [
    "#inspecting data\n",
    "engagement.head()"
   ]
  },
  {
   "cell_type": "code",
   "execution_count": 8,
   "metadata": {
    "collapsed": false
   },
   "outputs": [
    {
     "data": {
      "text/html": [
       "<div style=\"max-height:1000px;max-width:1500px;overflow:auto;\">\n",
       "<table border=\"1\" class=\"dataframe\">\n",
       "  <thead>\n",
       "    <tr style=\"text-align: right;\">\n",
       "      <th></th>\n",
       "      <th>object_id</th>\n",
       "      <th>creation_time</th>\n",
       "      <th>name</th>\n",
       "      <th>email</th>\n",
       "      <th>creation_source</th>\n",
       "      <th>last_session_creation_time</th>\n",
       "      <th>opted_in_to_mailing_list</th>\n",
       "      <th>enabled_for_marketing_drip</th>\n",
       "      <th>org_id</th>\n",
       "      <th>invited_by_user_id</th>\n",
       "    </tr>\n",
       "  </thead>\n",
       "  <tbody>\n",
       "    <tr>\n",
       "      <th>0</th>\n",
       "      <td> 1</td>\n",
       "      <td> 2014-04-22 03:53:30</td>\n",
       "      <td>    Clausen August</td>\n",
       "      <td>   AugustCClausen@yahoo.com</td>\n",
       "      <td> GUEST_INVITE</td>\n",
       "      <td> 1398138810</td>\n",
       "      <td> 1</td>\n",
       "      <td> 0</td>\n",
       "      <td>  11</td>\n",
       "      <td> 10803</td>\n",
       "    </tr>\n",
       "    <tr>\n",
       "      <th>1</th>\n",
       "      <td> 2</td>\n",
       "      <td> 2013-11-15 03:45:04</td>\n",
       "      <td>     Poole Matthew</td>\n",
       "      <td>     MatthewPoole@gustr.com</td>\n",
       "      <td>   ORG_INVITE</td>\n",
       "      <td> 1396237504</td>\n",
       "      <td> 0</td>\n",
       "      <td> 0</td>\n",
       "      <td>   1</td>\n",
       "      <td>   316</td>\n",
       "    </tr>\n",
       "    <tr>\n",
       "      <th>2</th>\n",
       "      <td> 3</td>\n",
       "      <td> 2013-03-19 23:14:52</td>\n",
       "      <td> Bottrill Mitchell</td>\n",
       "      <td> MitchellBottrill@gustr.com</td>\n",
       "      <td>   ORG_INVITE</td>\n",
       "      <td> 1363734892</td>\n",
       "      <td> 0</td>\n",
       "      <td> 0</td>\n",
       "      <td>  94</td>\n",
       "      <td>  1525</td>\n",
       "    </tr>\n",
       "    <tr>\n",
       "      <th>3</th>\n",
       "      <td> 4</td>\n",
       "      <td> 2013-05-21 08:09:28</td>\n",
       "      <td>   Clausen Nicklas</td>\n",
       "      <td>  NicklasSClausen@yahoo.com</td>\n",
       "      <td> GUEST_INVITE</td>\n",
       "      <td> 1369210168</td>\n",
       "      <td> 0</td>\n",
       "      <td> 0</td>\n",
       "      <td>   1</td>\n",
       "      <td>  5151</td>\n",
       "    </tr>\n",
       "    <tr>\n",
       "      <th>4</th>\n",
       "      <td> 5</td>\n",
       "      <td> 2013-01-17 10:14:20</td>\n",
       "      <td>         Raw Grace</td>\n",
       "      <td>         GraceRaw@yahoo.com</td>\n",
       "      <td> GUEST_INVITE</td>\n",
       "      <td> 1358849660</td>\n",
       "      <td> 0</td>\n",
       "      <td> 0</td>\n",
       "      <td> 193</td>\n",
       "      <td>  5240</td>\n",
       "    </tr>\n",
       "  </tbody>\n",
       "</table>\n",
       "</div>"
      ],
      "text/plain": [
       "   object_id        creation_time               name  \\\n",
       "0          1  2014-04-22 03:53:30     Clausen August   \n",
       "1          2  2013-11-15 03:45:04      Poole Matthew   \n",
       "2          3  2013-03-19 23:14:52  Bottrill Mitchell   \n",
       "3          4  2013-05-21 08:09:28    Clausen Nicklas   \n",
       "4          5  2013-01-17 10:14:20          Raw Grace   \n",
       "\n",
       "                        email creation_source  last_session_creation_time  \\\n",
       "0    AugustCClausen@yahoo.com    GUEST_INVITE                  1398138810   \n",
       "1      MatthewPoole@gustr.com      ORG_INVITE                  1396237504   \n",
       "2  MitchellBottrill@gustr.com      ORG_INVITE                  1363734892   \n",
       "3   NicklasSClausen@yahoo.com    GUEST_INVITE                  1369210168   \n",
       "4          GraceRaw@yahoo.com    GUEST_INVITE                  1358849660   \n",
       "\n",
       "   opted_in_to_mailing_list  enabled_for_marketing_drip  org_id  \\\n",
       "0                         1                           0      11   \n",
       "1                         0                           0       1   \n",
       "2                         0                           0      94   \n",
       "3                         0                           0       1   \n",
       "4                         0                           0     193   \n",
       "\n",
       "   invited_by_user_id  \n",
       "0               10803  \n",
       "1                 316  \n",
       "2                1525  \n",
       "3                5151  \n",
       "4                5240  "
      ]
     },
     "execution_count": 8,
     "metadata": {},
     "output_type": "execute_result"
    }
   ],
   "source": [
    "#inspecting data\n",
    "users.head()"
   ]
  },
  {
   "cell_type": "code",
   "execution_count": 9,
   "metadata": {
    "collapsed": false
   },
   "outputs": [],
   "source": [
    "#Joining on tables with an outer join to retain any users that have no engagement. \n",
    "#(turns out thats not totally necessary because everyone logged at least once)\n",
    "user_engagement=users.merge(engagement, how='outer', left_on='object_id', right_on='user_id')"
   ]
  },
  {
   "cell_type": "code",
   "execution_count": 10,
   "metadata": {
    "collapsed": false
   },
   "outputs": [
    {
     "data": {
      "text/html": [
       "<div style=\"max-height:1000px;max-width:1500px;overflow:auto;\">\n",
       "<table border=\"1\" class=\"dataframe\">\n",
       "  <thead>\n",
       "    <tr style=\"text-align: right;\">\n",
       "      <th></th>\n",
       "      <th>object_id</th>\n",
       "      <th>creation_time</th>\n",
       "      <th>name</th>\n",
       "      <th>email</th>\n",
       "      <th>creation_source</th>\n",
       "      <th>last_session_creation_time</th>\n",
       "      <th>opted_in_to_mailing_list</th>\n",
       "      <th>enabled_for_marketing_drip</th>\n",
       "      <th>org_id</th>\n",
       "      <th>invited_by_user_id</th>\n",
       "      <th>time_stamp</th>\n",
       "      <th>user_id</th>\n",
       "      <th>visited</th>\n",
       "    </tr>\n",
       "  </thead>\n",
       "  <tbody>\n",
       "    <tr>\n",
       "      <th>0</th>\n",
       "      <td> 1</td>\n",
       "      <td> 2014-04-22 03:53:30</td>\n",
       "      <td> Clausen August</td>\n",
       "      <td> AugustCClausen@yahoo.com</td>\n",
       "      <td> GUEST_INVITE</td>\n",
       "      <td> 1398138810</td>\n",
       "      <td> 1</td>\n",
       "      <td> 0</td>\n",
       "      <td> 11</td>\n",
       "      <td> 10803</td>\n",
       "      <td> 2014-04-22 03:53:30</td>\n",
       "      <td> 1</td>\n",
       "      <td> 1</td>\n",
       "    </tr>\n",
       "    <tr>\n",
       "      <th>1</th>\n",
       "      <td> 2</td>\n",
       "      <td> 2013-11-15 03:45:04</td>\n",
       "      <td>  Poole Matthew</td>\n",
       "      <td>   MatthewPoole@gustr.com</td>\n",
       "      <td>   ORG_INVITE</td>\n",
       "      <td> 1396237504</td>\n",
       "      <td> 0</td>\n",
       "      <td> 0</td>\n",
       "      <td>  1</td>\n",
       "      <td>   316</td>\n",
       "      <td> 2013-11-15 03:45:04</td>\n",
       "      <td> 2</td>\n",
       "      <td> 1</td>\n",
       "    </tr>\n",
       "    <tr>\n",
       "      <th>2</th>\n",
       "      <td> 2</td>\n",
       "      <td> 2013-11-15 03:45:04</td>\n",
       "      <td>  Poole Matthew</td>\n",
       "      <td>   MatthewPoole@gustr.com</td>\n",
       "      <td>   ORG_INVITE</td>\n",
       "      <td> 1396237504</td>\n",
       "      <td> 0</td>\n",
       "      <td> 0</td>\n",
       "      <td>  1</td>\n",
       "      <td>   316</td>\n",
       "      <td> 2013-11-29 03:45:04</td>\n",
       "      <td> 2</td>\n",
       "      <td> 1</td>\n",
       "    </tr>\n",
       "    <tr>\n",
       "      <th>3</th>\n",
       "      <td> 2</td>\n",
       "      <td> 2013-11-15 03:45:04</td>\n",
       "      <td>  Poole Matthew</td>\n",
       "      <td>   MatthewPoole@gustr.com</td>\n",
       "      <td>   ORG_INVITE</td>\n",
       "      <td> 1396237504</td>\n",
       "      <td> 0</td>\n",
       "      <td> 0</td>\n",
       "      <td>  1</td>\n",
       "      <td>   316</td>\n",
       "      <td> 2013-12-09 03:45:04</td>\n",
       "      <td> 2</td>\n",
       "      <td> 1</td>\n",
       "    </tr>\n",
       "    <tr>\n",
       "      <th>4</th>\n",
       "      <td> 2</td>\n",
       "      <td> 2013-11-15 03:45:04</td>\n",
       "      <td>  Poole Matthew</td>\n",
       "      <td>   MatthewPoole@gustr.com</td>\n",
       "      <td>   ORG_INVITE</td>\n",
       "      <td> 1396237504</td>\n",
       "      <td> 0</td>\n",
       "      <td> 0</td>\n",
       "      <td>  1</td>\n",
       "      <td>   316</td>\n",
       "      <td> 2013-12-25 03:45:04</td>\n",
       "      <td> 2</td>\n",
       "      <td> 1</td>\n",
       "    </tr>\n",
       "  </tbody>\n",
       "</table>\n",
       "</div>"
      ],
      "text/plain": [
       "   object_id        creation_time            name                     email  \\\n",
       "0          1  2014-04-22 03:53:30  Clausen August  AugustCClausen@yahoo.com   \n",
       "1          2  2013-11-15 03:45:04   Poole Matthew    MatthewPoole@gustr.com   \n",
       "2          2  2013-11-15 03:45:04   Poole Matthew    MatthewPoole@gustr.com   \n",
       "3          2  2013-11-15 03:45:04   Poole Matthew    MatthewPoole@gustr.com   \n",
       "4          2  2013-11-15 03:45:04   Poole Matthew    MatthewPoole@gustr.com   \n",
       "\n",
       "  creation_source  last_session_creation_time  opted_in_to_mailing_list  \\\n",
       "0    GUEST_INVITE                  1398138810                         1   \n",
       "1      ORG_INVITE                  1396237504                         0   \n",
       "2      ORG_INVITE                  1396237504                         0   \n",
       "3      ORG_INVITE                  1396237504                         0   \n",
       "4      ORG_INVITE                  1396237504                         0   \n",
       "\n",
       "   enabled_for_marketing_drip  org_id  invited_by_user_id  \\\n",
       "0                           0      11               10803   \n",
       "1                           0       1                 316   \n",
       "2                           0       1                 316   \n",
       "3                           0       1                 316   \n",
       "4                           0       1                 316   \n",
       "\n",
       "            time_stamp  user_id  visited  \n",
       "0  2014-04-22 03:53:30        1        1  \n",
       "1  2013-11-15 03:45:04        2        1  \n",
       "2  2013-11-29 03:45:04        2        1  \n",
       "3  2013-12-09 03:45:04        2        1  \n",
       "4  2013-12-25 03:45:04        2        1  "
      ]
     },
     "execution_count": 10,
     "metadata": {},
     "output_type": "execute_result"
    }
   ],
   "source": [
    "user_engagement.head()"
   ]
  },
  {
   "cell_type": "code",
   "execution_count": 11,
   "metadata": {
    "collapsed": false
   },
   "outputs": [
    {
     "name": "stdout",
     "output_type": "stream",
     "text": [
      "<class 'pandas.core.frame.DataFrame'>\n",
      "Int64Index: 211094 entries, 0 to 211093\n",
      "Data columns (total 13 columns):\n",
      "object_id                     211094 non-null int64\n",
      "creation_time                 211094 non-null object\n",
      "name                          211094 non-null object\n",
      "email                         211094 non-null object\n",
      "creation_source               211094 non-null object\n",
      "last_session_creation_time    207917 non-null float64\n",
      "opted_in_to_mailing_list      211094 non-null int64\n",
      "enabled_for_marketing_drip    211094 non-null int64\n",
      "org_id                        211094 non-null int64\n",
      "invited_by_user_id            118528 non-null float64\n",
      "time_stamp                    207917 non-null object\n",
      "user_id                       207917 non-null float64\n",
      "visited                       207917 non-null float64\n",
      "dtypes: float64(4), int64(4), object(5)\n",
      "memory usage: 22.5+ MB\n"
     ]
    }
   ],
   "source": [
    "user_engagement.info()"
   ]
  },
  {
   "cell_type": "code",
   "execution_count": 12,
   "metadata": {
    "collapsed": false
   },
   "outputs": [
    {
     "name": "stdout",
     "output_type": "stream",
     "text": [
      "<class 'pandas.core.frame.DataFrame'>\n",
      "Int64Index: 12000 entries, 0 to 11999\n",
      "Data columns (total 10 columns):\n",
      "object_id                     12000 non-null int64\n",
      "creation_time                 12000 non-null object\n",
      "name                          12000 non-null object\n",
      "email                         12000 non-null object\n",
      "creation_source               12000 non-null object\n",
      "last_session_creation_time    8823 non-null float64\n",
      "opted_in_to_mailing_list      12000 non-null int64\n",
      "enabled_for_marketing_drip    12000 non-null int64\n",
      "org_id                        12000 non-null int64\n",
      "invited_by_user_id            6417 non-null float64\n",
      "dtypes: float64(2), int64(4), object(4)\n",
      "memory usage: 1.0+ MB\n"
     ]
    }
   ],
   "source": [
    "users.info()"
   ]
  },
  {
   "cell_type": "code",
   "execution_count": 13,
   "metadata": {
    "collapsed": false
   },
   "outputs": [
    {
     "name": "stdout",
     "output_type": "stream",
     "text": [
      "<class 'pandas.core.frame.DataFrame'>\n",
      "Int64Index: 207917 entries, 0 to 207916\n",
      "Data columns (total 3 columns):\n",
      "time_stamp    207917 non-null object\n",
      "user_id       207917 non-null int64\n",
      "visited       207917 non-null int64\n",
      "dtypes: int64(2), object(1)\n",
      "memory usage: 6.3+ MB\n"
     ]
    }
   ],
   "source": [
    "engagement.info()"
   ]
  },
  {
   "cell_type": "code",
   "execution_count": 19,
   "metadata": {
    "collapsed": false
   },
   "outputs": [],
   "source": [
    "#Grouping by number of logins, this way I can filter out the users who haven't even logged in 3 times. \n",
    "user_visits_count=user_engagement.groupby('object_id').count()"
   ]
  },
  {
   "cell_type": "code",
   "execution_count": 20,
   "metadata": {
    "collapsed": true
   },
   "outputs": [],
   "source": [
    "#filtering on users that haven't logged in at least three times\n",
    "user_min_count_3=user_visits_count[user_visits_count.visited >= 3]"
   ]
  },
  {
   "cell_type": "code",
   "execution_count": 21,
   "metadata": {
    "collapsed": false
   },
   "outputs": [],
   "source": [
    "user_min_count_3.reset_index(inplace=True)"
   ]
  },
  {
   "cell_type": "code",
   "execution_count": 22,
   "metadata": {
    "collapsed": false
   },
   "outputs": [],
   "source": [
    "engaged_users=user_min_count_3.object_id"
   ]
  },
  {
   "cell_type": "code",
   "execution_count": 23,
   "metadata": {
    "collapsed": false
   },
   "outputs": [],
   "source": [
    "engaged_users_engagement=user_engagement.merge(pd.DataFrame(engaged_users), how='inner')"
   ]
  },
  {
   "cell_type": "code",
   "execution_count": 24,
   "metadata": {
    "collapsed": true
   },
   "outputs": [],
   "source": [
    "#writing a function that will return the week number and year from the login timestamp\n",
    "def apply_week(x): return datetime.fromtimestamp(x).strftime('%W %y')\n"
   ]
  },
  {
   "cell_type": "code",
   "execution_count": 26,
   "metadata": {
    "collapsed": false
   },
   "outputs": [
    {
     "data": {
      "text/plain": [
       "'12 14'"
      ]
     },
     "execution_count": 26,
     "metadata": {},
     "output_type": "execute_result"
    }
   ],
   "source": [
    "#just checking to make sure it works!\n",
    "apply_week(engaged_users_engagement['last_session_creation_time'][1])"
   ]
  },
  {
   "cell_type": "code",
   "execution_count": 28,
   "metadata": {
    "collapsed": false
   },
   "outputs": [],
   "source": [
    "#lets drop everyone who hasn't logged in\n",
    "engaged_users_engagement=engaged_users_engagement[pd.notnull(engaged_users_engagement['last_session_creation_time'])]"
   ]
  },
  {
   "cell_type": "code",
   "execution_count": 30,
   "metadata": {
    "collapsed": false
   },
   "outputs": [],
   "source": [
    "engaged_users_engagement.reset_index(inplace=True)"
   ]
  },
  {
   "cell_type": "code",
   "execution_count": 31,
   "metadata": {
    "collapsed": false
   },
   "outputs": [],
   "source": [
    "#creating a new column for the week and year of each login so I can group by on this field later\n",
    "engaged_users_engagement['week']=np.nan\n",
    "for i in range(len(engaged_users_engagement)):\n",
    "    engaged_users_engagement.loc[i,'week']=apply_week(engaged_users_engagement.last_session_creation_time[i])\n"
   ]
  },
  {
   "cell_type": "code",
   "execution_count": 47,
   "metadata": {
    "collapsed": false
   },
   "outputs": [],
   "source": [
    "# grouping by user and week to get a count of how many times they logged in in each week\n",
    "count_week=engaged_users_engagement.groupby(['week','object_id']).count()"
   ]
  },
  {
   "cell_type": "code",
   "execution_count": 51,
   "metadata": {
    "collapsed": false
   },
   "outputs": [],
   "source": [
    "count_week.reset_index(inplace=True)"
   ]
  },
  {
   "cell_type": "code",
   "execution_count": 53,
   "metadata": {
    "collapsed": false
   },
   "outputs": [],
   "source": [
    "#filtering on a minimum of 3 logins in a week\n",
    "count_week_3=count_week[count_week.index>=3]"
   ]
  },
  {
   "cell_type": "code",
   "execution_count": 54,
   "metadata": {
    "collapsed": false
   },
   "outputs": [
    {
     "data": {
      "text/plain": [
       "(2245, 2248)"
      ]
     },
     "execution_count": 54,
     "metadata": {},
     "output_type": "execute_result"
    }
   ],
   "source": [
    "#checking to see if there was a difference between the users who'd logged in at least 3 times and logged in at least 3\n",
    "#times in one week. not a huge diffence! \n",
    "len(count_week_3), len(count_week)"
   ]
  },
  {
   "cell_type": "code",
   "execution_count": 58,
   "metadata": {
    "collapsed": false
   },
   "outputs": [],
   "source": [
    "#getting a list of all the distinct active users\n",
    "active_users=count_week_3.object_id.unique()"
   ]
  },
  {
   "cell_type": "code",
   "execution_count": 62,
   "metadata": {
    "collapsed": false
   },
   "outputs": [],
   "source": [
    "#adding a column to users to indicate whether they are active or not\n",
    "users['active']=np.nan\n",
    "for i in range(len(users)):\n",
    "    if users.object_id[i] in active_users:\n",
    "        users.loc[i,'active']=1\n",
    "    else:\n",
    "        users.loc[i,'active']=0"
   ]
  },
  {
   "cell_type": "code",
   "execution_count": 97,
   "metadata": {
    "collapsed": false
   },
   "outputs": [],
   "source": [
    "#model doesn't like nan so inserting another error value\n",
    "users=users.fillna(-999)"
   ]
  },
  {
   "cell_type": "code",
   "execution_count": 98,
   "metadata": {
    "collapsed": false
   },
   "outputs": [],
   "source": [
    "#creating a column for whether or not a user was invited based on the error value I inserted above\n",
    "users['invited']=np.nan\n",
    "for i in range(len(users)):\n",
    "    if users.invited_by_user_id[i] !=-999:\n",
    "        users.loc[i,'invited']=1\n",
    "    else:\n",
    "        users.loc[i,'invited']=0"
   ]
  },
  {
   "cell_type": "code",
   "execution_count": 166,
   "metadata": {
    "collapsed": false
   },
   "outputs": [],
   "source": [
    "#grouping by org_id to get the total number of organzation members\n",
    "org=users.groupby(['org_id']).count()"
   ]
  },
  {
   "cell_type": "code",
   "execution_count": 149,
   "metadata": {
    "collapsed": false
   },
   "outputs": [],
   "source": [
    "#creating a dataframe of referrers ids and their organizations\n",
    "ref_group=users[['object_id','org_id']]"
   ]
  },
  {
   "cell_type": "code",
   "execution_count": 150,
   "metadata": {
    "collapsed": false
   },
   "outputs": [],
   "source": [
    "#making unique names for this new dfs columns\n",
    "ref_group.columns = ['ref_id', 'ref_org_id']"
   ]
  },
  {
   "cell_type": "code",
   "execution_count": 208,
   "metadata": {
    "collapsed": false
   },
   "outputs": [],
   "source": [
    "#merging on the referrers id \n",
    "org_users=users.merge(ref_group, how='left', left_on='invited_by_user_id', right_on='ref_id')"
   ]
  },
  {
   "cell_type": "code",
   "execution_count": 209,
   "metadata": {
    "collapsed": false
   },
   "outputs": [
    {
     "data": {
      "text/plain": [
       "(12000, 12000)"
      ]
     },
     "execution_count": 209,
     "metadata": {},
     "output_type": "execute_result"
    }
   ],
   "source": [
    "#did I mess up the merge?? nope\n",
    "len(org_users), len(users)"
   ]
  },
  {
   "cell_type": "code",
   "execution_count": 210,
   "metadata": {
    "collapsed": false
   },
   "outputs": [],
   "source": [
    "org.reset_index(inplace=True)"
   ]
  },
  {
   "cell_type": "code",
   "execution_count": 212,
   "metadata": {
    "collapsed": false
   },
   "outputs": [],
   "source": [
    "#lets grab a df of the active users\n",
    "active_users=users[users.active==1]"
   ]
  },
  {
   "cell_type": "code",
   "execution_count": 213,
   "metadata": {
    "collapsed": true
   },
   "outputs": [],
   "source": [
    "#and then do a group by to get the count of the active users in each org\n",
    "org_active=active_users.groupby(['org_id']).count()"
   ]
  },
  {
   "cell_type": "code",
   "execution_count": 214,
   "metadata": {
    "collapsed": false
   },
   "outputs": [],
   "source": [
    "#unique column names for this new df\n",
    "org_active.reset_index(inplace=True)\n",
    "org_active=org_active[['org_id','name']]\n",
    "org_active.columns=[['org_id','active_member_count']]"
   ]
  },
  {
   "cell_type": "code",
   "execution_count": 215,
   "metadata": {
    "collapsed": true
   },
   "outputs": [],
   "source": [
    "#merging on org_id so I get a new column with the number of org members in the org of each user\n",
    "org_users_1=org_users.merge(org, how='left', on='org_id')"
   ]
  },
  {
   "cell_type": "code",
   "execution_count": 216,
   "metadata": {
    "collapsed": false
   },
   "outputs": [],
   "source": [
    "#merging on org_id so I get a new column with the number of active org members in the org of each user\n",
    "org_users_2=org_users_1.merge(org_active, how='left', on='org_id')"
   ]
  },
  {
   "cell_type": "code",
   "execution_count": 218,
   "metadata": {
    "collapsed": false
   },
   "outputs": [
    {
     "data": {
      "text/plain": [
       "12000"
      ]
     },
     "execution_count": 218,
     "metadata": {},
     "output_type": "execute_result"
    }
   ],
   "source": [
    "#still the right number of users??\n",
    "len(org_users_2)"
   ]
  },
  {
   "cell_type": "code",
   "execution_count": 219,
   "metadata": {
    "collapsed": false
   },
   "outputs": [
    {
     "data": {
      "text/plain": [
       "Index([u'object_id', u'creation_time', u'name', u'email', u'creation_source', u'last_session_creation_time', u'opted_in_to_mailing_list', u'enabled_for_marketing_drip', u'org_id', u'invited_by_user_id', u'active', u'invited', u'month', u'ref_id', u'ref_org_id', u'index', u'member_count', u'active_member_count'], dtype='object')"
      ]
     },
     "execution_count": 219,
     "metadata": {},
     "output_type": "execute_result"
    }
   ],
   "source": [
    "#lets check out my columns so I can see which would be useful in the classification model and which would cause \"leakage\"\n",
    "org_users_2.columns"
   ]
  },
  {
   "cell_type": "code",
   "execution_count": 222,
   "metadata": {
    "collapsed": false
   },
   "outputs": [],
   "source": [
    "#new column for whether or not the invitee is from the same org as the invited\n",
    "org_users_2['org_invite']=np.nan\n",
    "for i in range(len(org_users)):\n",
    "    if org_users_2.org_id[i]==org_users_2.ref_org_id[i]:\n",
    "        org_users_2.loc[i,'org_invite']=1\n",
    "    else:\n",
    "        org_users_2.loc[i,'org_invite']=0"
   ]
  },
  {
   "cell_type": "code",
   "execution_count": 242,
   "metadata": {
    "collapsed": false
   },
   "outputs": [],
   "source": [
    "#dataframe of users and whether they are active\n",
    "using_users=users[['object_id','active']]"
   ]
  },
  {
   "cell_type": "code",
   "execution_count": 247,
   "metadata": {
    "collapsed": false
   },
   "outputs": [],
   "source": [
    "#unique column names\n",
    "using_users.columns=['ref_id','ref_active']"
   ]
  },
  {
   "cell_type": "code",
   "execution_count": 256,
   "metadata": {
    "collapsed": false
   },
   "outputs": [],
   "source": [
    "#merging on invitee id to get a new field showing whether or not the users inviter is active\n",
    "org_users_3=org_users_2.merge(using_users, how='left', left_on='invited_by_user_id', right_on='ref_id')"
   ]
  },
  {
   "cell_type": "code",
   "execution_count": 257,
   "metadata": {
    "collapsed": false
   },
   "outputs": [],
   "source": [
    "#filling 0 for those who werent invited\n",
    "org_users_3.fillna(0,inplace=True)"
   ]
  },
  {
   "cell_type": "code",
   "execution_count": 245,
   "metadata": {
    "collapsed": false
   },
   "outputs": [],
   "source": [
    "#filling 0 for those who weren't invited\n",
    "org_users_2.fillna(0,inplace=True)"
   ]
  },
  {
   "cell_type": "code",
   "execution_count": 328,
   "metadata": {
    "collapsed": false
   },
   "outputs": [],
   "source": [
    "#grabbing features for the x data and exlcuding those that would cause leakage and generating dummies for categorical features\n",
    "x_data=org_users_3[['creation_source','opted_in_to_mailing_list','enabled_for_marketing_drip','invited', 'org_invite','member_count','active_member_count','ref_active']]\n",
    "X_data = pd.get_dummies(x_data)"
   ]
  },
  {
   "cell_type": "code",
   "execution_count": 329,
   "metadata": {
    "collapsed": true
   },
   "outputs": [],
   "source": [
    "y_data=org_users_3['active']"
   ]
  },
  {
   "cell_type": "code",
   "execution_count": 336,
   "metadata": {
    "collapsed": false
   },
   "outputs": [
    {
     "data": {
      "text/plain": [
       "0.34425925925925926"
      ]
     },
     "execution_count": 336,
     "metadata": {},
     "output_type": "execute_result"
    }
   ],
   "source": [
    "#training my model, using a larger sample for training to try to ensure I get enough active users to train on\n",
    "#otherwise model just preducts not active\n",
    "from sklearn.cross_validation import train_test_split\n",
    "X_train, X_test, y_train, y_test = train_test_split(X_data, y_data, random_state=12, test_size=0.45)\n",
    "from sklearn.svm import LinearSVC\n",
    "clf = LinearSVC()\n",
    "clf.fit(X_train, y_train)\n",
    "clf.score(X_test, y_test)"
   ]
  },
  {
   "cell_type": "code",
   "execution_count": 337,
   "metadata": {
    "collapsed": false
   },
   "outputs": [
    {
     "data": {
      "text/plain": [
       "array([[1067, 3330],\n",
       "       [ 211,  792]])"
      ]
     },
     "execution_count": 337,
     "metadata": {},
     "output_type": "execute_result"
    }
   ],
   "source": [
    "#confusion matrix showing the false pos, true pos, false negs, and true negs. Not a great model but still could\n",
    "# provide some insight\n",
    "from sklearn.metrics import confusion_matrix, classification_report\n",
    "y_pred = clf.predict(X_test)\n",
    "confusion_matrix(y_test, y_pred)"
   ]
  },
  {
   "cell_type": "code",
   "execution_count": 340,
   "metadata": {
    "collapsed": false
   },
   "outputs": [
    {
     "data": {
      "text/html": [
       "<div style=\"max-height:1000px;max-width:1500px;overflow:auto;\">\n",
       "<table border=\"1\" class=\"dataframe\">\n",
       "  <thead>\n",
       "    <tr style=\"text-align: right;\">\n",
       "      <th></th>\n",
       "      <th>0</th>\n",
       "      <th>1</th>\n",
       "    </tr>\n",
       "  </thead>\n",
       "  <tbody>\n",
       "    <tr>\n",
       "      <th>5 </th>\n",
       "      <td>                active_member_count</td>\n",
       "      <td>    [0.068776179356]</td>\n",
       "    </tr>\n",
       "    <tr>\n",
       "      <th>7 </th>\n",
       "      <td>       creation_source_GUEST_INVITE</td>\n",
       "      <td>   [0.0498705339701]</td>\n",
       "    </tr>\n",
       "    <tr>\n",
       "      <th>6 </th>\n",
       "      <td>                         ref_active</td>\n",
       "      <td>   [0.0309906785367]</td>\n",
       "    </tr>\n",
       "    <tr>\n",
       "      <th>4 </th>\n",
       "      <td>                       member_count</td>\n",
       "      <td>   [0.0166941245654]</td>\n",
       "    </tr>\n",
       "    <tr>\n",
       "      <th>1 </th>\n",
       "      <td>         enabled_for_marketing_drip</td>\n",
       "      <td>  [-0.0047292441151]</td>\n",
       "    </tr>\n",
       "    <tr>\n",
       "      <th>0 </th>\n",
       "      <td>           opted_in_to_mailing_list</td>\n",
       "      <td> [-0.00628239956858]</td>\n",
       "    </tr>\n",
       "    <tr>\n",
       "      <th>2 </th>\n",
       "      <td>                            invited</td>\n",
       "      <td>  [-0.0260215416809]</td>\n",
       "    </tr>\n",
       "    <tr>\n",
       "      <th>3 </th>\n",
       "      <td>                         org_invite</td>\n",
       "      <td>  [-0.0260215416809]</td>\n",
       "    </tr>\n",
       "    <tr>\n",
       "      <th>11</th>\n",
       "      <td> creation_source_SIGNUP_GOOGLE_AUTH</td>\n",
       "      <td>  [-0.0595048609096]</td>\n",
       "    </tr>\n",
       "    <tr>\n",
       "      <th>8 </th>\n",
       "      <td>         creation_source_ORG_INVITE</td>\n",
       "      <td>   [-0.075892075651]</td>\n",
       "    </tr>\n",
       "    <tr>\n",
       "      <th>10</th>\n",
       "      <td>             creation_source_SIGNUP</td>\n",
       "      <td>   [-0.104122337737]</td>\n",
       "    </tr>\n",
       "    <tr>\n",
       "      <th>9 </th>\n",
       "      <td>  creation_source_PERSONAL_PROJECTS</td>\n",
       "      <td>   [-0.317222622401]</td>\n",
       "    </tr>\n",
       "  </tbody>\n",
       "</table>\n",
       "</div>"
      ],
      "text/plain": [
       "                                     0                    1\n",
       "5                  active_member_count     [0.068776179356]\n",
       "7         creation_source_GUEST_INVITE    [0.0498705339701]\n",
       "6                           ref_active    [0.0309906785367]\n",
       "4                         member_count    [0.0166941245654]\n",
       "1           enabled_for_marketing_drip   [-0.0047292441151]\n",
       "0             opted_in_to_mailing_list  [-0.00628239956858]\n",
       "2                              invited   [-0.0260215416809]\n",
       "3                           org_invite   [-0.0260215416809]\n",
       "11  creation_source_SIGNUP_GOOGLE_AUTH   [-0.0595048609096]\n",
       "8           creation_source_ORG_INVITE    [-0.075892075651]\n",
       "10              creation_source_SIGNUP    [-0.104122337737]\n",
       "9    creation_source_PERSONAL_PROJECTS    [-0.317222622401]"
      ]
     },
     "execution_count": 340,
     "metadata": {},
     "output_type": "execute_result"
    }
   ],
   "source": [
    "#Coef returns the weights assigned to the features. The most important features being the ones farthest from zero\n",
    "#the most postive indicated user more likely to be active and the most negative the user more likely to be non-active\n",
    "pd.DataFrame(zip(X_data.columns, np.transpose(clf.coef_))).sort(1, ascending=False)"
   ]
  },
  {
   "cell_type": "code",
   "execution_count": null,
   "metadata": {
    "collapsed": true
   },
   "outputs": [],
   "source": []
  },
  {
   "cell_type": "code",
   "execution_count": null,
   "metadata": {
    "collapsed": true
   },
   "outputs": [],
   "source": []
  }
 ],
 "metadata": {
  "kernelspec": {
   "display_name": "Python 2",
   "language": "python",
   "name": "python2"
  },
  "language_info": {
   "codemirror_mode": {
    "name": "ipython",
    "version": 2
   },
   "file_extension": ".py",
   "mimetype": "text/x-python",
   "name": "python",
   "nbconvert_exporter": "python",
   "pygments_lexer": "ipython2",
   "version": "2.7.9"
  }
 },
 "nbformat": 4,
 "nbformat_minor": 0
}
